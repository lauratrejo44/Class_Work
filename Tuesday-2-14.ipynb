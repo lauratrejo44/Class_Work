{
 "cells": [
  {
   "cell_type": "markdown",
   "metadata": {},
   "source": [
    "*CLASS WORK (functions) 2/14/17*"
   ]
  },
  {
   "cell_type": "code",
   "execution_count": 5,
   "metadata": {
    "collapsed": true
   },
   "outputs": [],
   "source": [
    "def greeter ():\n",
    "    print ('Welcome!')\n",
    "    print ('This function takes no arguments')"
   ]
  },
  {
   "cell_type": "raw",
   "metadata": {},
   "source": []
  },
  {
   "cell_type": "code",
   "execution_count": 48,
   "metadata": {
    "collapsed": false
   },
   "outputs": [
    {
     "data": {
      "text/plain": [
       "'ggtct'"
      ]
     },
     "execution_count": 48,
     "metadata": {},
     "output_type": "execute_result"
    }
   ],
   "source": [
    "seq = 'ATCTTCT'\n",
    "seq2 = 'GGTCT'\n",
    "\n",
    "seq.replace (\"A\", \"a\")\n",
    "seq.replace (\"T\", \"t\")\n",
    "\n",
    "seq2 = seq2.replace(\"T\", 't')\n",
    "\n",
    "seq.lower () \n",
    "seq2.lower ()\n",
    "\n"
   ]
  },
  {
   "cell_type": "code",
   "execution_count": 6,
   "metadata": {
    "collapsed": false
   },
   "outputs": [
    {
     "name": "stdout",
     "output_type": "stream",
     "text": [
      "Welcome!\n",
      "This function takes no arguments\n"
     ]
    }
   ],
   "source": [
    "greeter ()"
   ]
  },
  {
   "cell_type": "code",
   "execution_count": 58,
   "metadata": {
    "collapsed": false
   },
   "outputs": [],
   "source": [
    "def stringAnalyzer (ss):\n",
    "    length = len (ss)\n",
    "    yy = 26\n",
    "    zz = yy + length \n",
    "  # print (\"this string has {} characters\".format(length) )\n",
    "    return zz"
   ]
  },
  {
   "cell_type": "code",
   "execution_count": null,
   "metadata": {
    "collapsed": true
   },
   "outputs": [],
   "source": [
    "#longer_length = stringAnalyzer (seq)\n",
    "#print "
   ]
  },
  {
   "cell_type": "code",
   "execution_count": 78,
   "metadata": {
    "collapsed": false
   },
   "outputs": [],
   "source": [
    "def baseCounter (dna):#define a function and its arguments it will take \n",
    "    baseDict = {} #will hold  my counts \n",
    "    for cc in [\"A\", \"T\", \"C\", \"G\"]:#loop will walk through items in list and for each give the count off cc in seq thats being passed in dna \n",
    "        count = dna.upper().count(cc) #get uppercase in dna and count characters for whichever is in loop\n",
    "       #upperseq = dna.upper()\n",
    "       # count = upperseq.count (ss)\n",
    "        baseDict [cc] = count \n",
    "        #print (cc + \"=\" + count )\n",
    "        \n",
    "    return baseDict\n",
    "    \n",
    "dd = baseCounter (seq)\n",
    "\n",
    "seq = 'ATCTTTGC'\n",
    "def get_at_content (dna, sigfig):\n",
    "    dnalist = []\n",
    "    dna = dna.upper() #make everything uppercase\n",
    "    length = len (dna)\n",
    "   #for base in dna:\n",
    "       # base_count = dna.count (\"A\", \"T\", \"C\")\n",
    "    a_count = dna.count(\"A\")\n",
    "    t_count = dna.count(\"T\")\n",
    "    at_content = (a_count + t_count) / length \n",
    "    dnalist.append (length)\n",
    "    dnalist.append (a_count)\n",
    "    dnalist.append (t_count )\n",
    "    dnalist.append ( at_content )\n",
    "    rounded = round (at_content, sigfig)\n",
    "    #return round(at_content, 2)\n",
    "    #return round (at_content, sigfig)\n",
    "    return rounded \n",
    "   # return dnalist\n",
    "\n",
    "#couldve also used a dictionary "
   ]
  },
  {
   "cell_type": "code",
   "execution_count": 63,
   "metadata": {
    "collapsed": false
   },
   "outputs": [
    {
     "data": {
      "text/plain": [
       "dict_keys(['G', 'C', 'A', 'T'])"
      ]
     },
     "execution_count": 63,
     "metadata": {},
     "output_type": "execute_result"
    }
   ],
   "source": [
    "dd.keys()"
   ]
  },
  {
   "cell_type": "code",
   "execution_count": null,
   "metadata": {
    "collapsed": true
   },
   "outputs": [],
   "source": []
  },
  {
   "cell_type": "code",
   "execution_count": 77,
   "metadata": {
    "collapsed": false
   },
   "outputs": [
    {
     "data": {
      "text/plain": [
       "0.5294"
      ]
     },
     "execution_count": 77,
     "metadata": {},
     "output_type": "execute_result"
    }
   ],
   "source": [
    "get_at_content (\"ATGCATGCAACTGTAGC\", 4)\n",
    "#print (get_at_content (\"aatcgtagctagctag\")) #need to add a line that converts to upper\n"
   ]
  },
  {
   "cell_type": "code",
   "execution_count": 69,
   "metadata": {
    "collapsed": false
   },
   "outputs": [
    {
     "data": {
      "text/plain": [
       "0.62"
      ]
     },
     "execution_count": 69,
     "metadata": {},
     "output_type": "execute_result"
    }
   ],
   "source": [
    "\n"
   ]
  },
  {
   "cell_type": "code",
   "execution_count": null,
   "metadata": {
    "collapsed": true
   },
   "outputs": [],
   "source": []
  }
 ],
 "metadata": {
  "anaconda-cloud": {},
  "kernelspec": {
   "display_name": "Python [conda root]",
   "language": "python",
   "name": "conda-root-py"
  },
  "language_info": {
   "codemirror_mode": {
    "name": "ipython",
    "version": 3
   },
   "file_extension": ".py",
   "mimetype": "text/x-python",
   "name": "python",
   "nbconvert_exporter": "python",
   "pygments_lexer": "ipython3",
   "version": "3.5.2"
  }
 },
 "nbformat": 4,
 "nbformat_minor": 2
}
