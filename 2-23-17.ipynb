{
 "cells": [
  {
   "cell_type": "markdown",
   "metadata": {},
   "source": [
    "text editor- geddit \n",
    "use grep to pick out one line from file\n",
    "grep etymology flastfish\n",
    "you can also use commands in a pipe\n",
    "\n",
    "interested in fishery status \n",
    "command line pipeline to extract this indo \n",
    "exercise 1 \n",
    "use curl grep and cut to extract the fisheries of the starry fliunder \n",
    "wget example.com //save a file auto\n",
    "curl spits it out into terminal \n",
    "1. get curl working \n",
    "2. use grep Fisheries: ( only retun lines that have exact string )\n",
    "3. cut -d ';' -f 1 | cut \":\" -f 2 \n",
    "should get commercial \n",
    "id [10-20]\n",
    "part 2. \n"
   ]
  },
  {
   "cell_type": "code",
   "execution_count": 5,
   "metadata": {
    "collapsed": false
   },
   "outputs": [],
   "source": [
    "import urllib.request \n",
    "from bs4 import BeautifulSoup\n"
   ]
  },
  {
   "cell_type": "code",
   "execution_count": 24,
   "metadata": {
    "collapsed": false
   },
   "outputs": [],
   "source": [
    "family_url = \"http://www.fishbase.org/Nomenclature/NominalSpeciesList.php?family=Abyssocottidae\"\n",
    "\n"
   ]
  },
  {
   "cell_type": "code",
   "execution_count": 25,
   "metadata": {
    "collapsed": false
   },
   "outputs": [],
   "source": [
    "html = urllib.request.urlopen(family_url)\n",
    "html_doc = html.read()\n"
   ]
  },
  {
   "cell_type": "code",
   "execution_count": 26,
   "metadata": {
    "collapsed": false
   },
   "outputs": [
    {
     "name": "stderr",
     "output_type": "stream",
     "text": [
      "/home/eeb177-student/miniconda3/lib/python3.5/site-packages/bs4/__init__.py:181: UserWarning: No parser was explicitly specified, so I'm using the best available HTML parser for this system (\"html.parser\"). This usually isn't a problem, but if you run this code on another system, or in a different virtual environment, it may use a different parser and behave differently.\n",
      "\n",
      "The code that caused this warning is on line 184 of the file /home/eeb177-student/miniconda3/lib/python3.5/runpy.py. To get rid of this warning, change code that looks like this:\n",
      "\n",
      " BeautifulSoup([your markup])\n",
      "\n",
      "to this:\n",
      "\n",
      " BeautifulSoup([your markup], \"html.parser\")\n",
      "\n",
      "  markup_type=markup_type))\n"
     ]
    }
   ],
   "source": [
    "soup = BeautifulSoup(html_doc)\n",
    "\n",
    "\n",
    "links = soup.find_all (\"a\") \n"
   ]
  },
  {
   "cell_type": "code",
   "execution_count": 27,
   "metadata": {
    "collapsed": false
   },
   "outputs": [
    {
     "name": "stdout",
     "output_type": "stream",
     "text": [
      "Limnocottus bergianus\n",
      "Cottinella boulengeri\n",
      "Abyssocottus elochini\n",
      "Abyssocottus gibbosus\n",
      "Abyssocottus gibbosus\n",
      "Limnocottus godlewskii\n",
      "Limnocottus godlewskii\n",
      "Limnocottus griseus\n",
      "Procottus gotoi\n",
      "Procottus gurwicii\n",
      "Asprocottus herzensteini\n",
      "Asprocottus abyssalis\n",
      "Asprocottus intermedius\n",
      "Asprocottus parmiferus\n",
      "Asprocottus platycephalus\n",
      "Procottus jeittelesii\n",
      "Procottus major\n",
      "Procottus gurwicii\n",
      "Procottus jeittelesii\n",
      "Asprocottus korjakovi\n",
      "Asprocottus minor\n",
      "Abyssocottus korotneffi\n",
      "Cyphocottus megalops\n",
      "Cyphocottus megalops\n",
      "Cyphocottus eurystomus\n",
      "Limnocottus pallidus\n",
      "Asprocottus pulcher\n",
      "Neocottus thermalis\n",
      "Neocottus werestschagini\n"
     ]
    }
   ],
   "source": [
    "# find all links\n",
    "links = soup.find_all(\"a\")\n",
    "for link in links:\n",
    "    # find all italic tags within each link\n",
    "    italics = link.find_all(\"i\")\n",
    "    for italic in italics:\n",
    "        # this should be the species name\n",
    "        print( italic.string)"
   ]
  },
  {
   "cell_type": "code",
   "execution_count": 28,
   "metadata": {
    "collapsed": true
   },
   "outputs": [],
   "source": [
    "#part3\n",
    "import urllib.request\n",
    "import json"
   ]
  },
  {
   "cell_type": "code",
   "execution_count": 34,
   "metadata": {
    "collapsed": false
   },
   "outputs": [],
   "source": [
    "api_url = \"https://fishbase.ropensci.org/species/?genus=Platichthys&species=stellatus\"\n",
    "\n",
    "raw_json = urllib.request.urlopen(api_url)\n",
    "decoded_json = raw_json.read().decode('utf-8')\n",
    "parsed_json = json.loads(decoded_json) ## we use the json.load method directly\n",
    "raw_json.close()\n",
    "\n"
   ]
  },
  {
   "cell_type": "code",
   "execution_count": 35,
   "metadata": {
    "collapsed": false
   },
   "outputs": [
    {
     "data": {
      "text/plain": [
       "{'count': 1,\n",
       " 'data': [{'AnaCat': 'catadromous',\n",
       "   'AquacultureRef': None,\n",
       "   'Aquarium': 'never/rarely',\n",
       "   'AquariumFishII': None,\n",
       "   'AquariumRef': None,\n",
       "   'Author': '(Pallas, 1787)',\n",
       "   'AuthorRef': None,\n",
       "   'BaitRef': None,\n",
       "   'BodyShapeI': 'short and / or deep',\n",
       "   'Brack': -1,\n",
       "   'Comments': 'Found inshore, often in very shallow water and in estuaries during the summer; moving into deeper water in the winter (Ref. 27547).  However, they may occur in deep water throughout the year (Ref. 27547).  Does not venture into water of high salinities (Ref. 28899).  Young and adults move up rivers, as much as 120 km (Ref. 27547).  Benthic (Ref. 58426).  Feeds on crustaceans, worms, small mollusks, brittle stars, and small fishes (Ref. 6885).  Important game fish (Ref. 2850).  Utilized fresh and frozen; eaten steamed, fried, boiled, microwaved, and baked (Ref. 9988).',\n",
       "   'CommonLength': 57.5,\n",
       "   'CommonLengthF': None,\n",
       "   'CommonLengthRef': 12193,\n",
       "   'Complete': None,\n",
       "   'Dangerous': 'harmless',\n",
       "   'DangerousRef': None,\n",
       "   'DateChecked': '1995-10-26T00:00:00.000Z',\n",
       "   'DateEntered': '1991-05-02T00:00:00.000Z',\n",
       "   'DateModified': '2007-07-25T00:00:00.000Z',\n",
       "   'DemersPelag': 'demersal',\n",
       "   'DepthComRef': None,\n",
       "   'DepthRangeComDeep': None,\n",
       "   'DepthRangeComShallow': None,\n",
       "   'DepthRangeDeep': 375,\n",
       "   'DepthRangeRef': 6793,\n",
       "   'DepthRangeShallow': 0,\n",
       "   'EggPic': None,\n",
       "   'ElectroRef': None,\n",
       "   'Electrogenic': 'no special ability',\n",
       "   'Emblematic': 0,\n",
       "   'Entered': 1,\n",
       "   'Expert': 132,\n",
       "   'FBname': 'Starry flounder',\n",
       "   'FamCode': 440,\n",
       "   'Fresh': -1,\n",
       "   'GameFish': -1,\n",
       "   'GameRef': 2850,\n",
       "   'GenCode': 559,\n",
       "   'Genus': 'Platichthys',\n",
       "   'GoogleImage': -1,\n",
       "   'II': None,\n",
       "   'Importance': 'commercial',\n",
       "   'ImportanceRef': 9137,\n",
       "   'LTypeComF': None,\n",
       "   'LTypeComM': 'TL',\n",
       "   'LTypeMaxF': None,\n",
       "   'LTypeMaxM': 'TL',\n",
       "   'LandingStatistics': None,\n",
       "   'Landings': None,\n",
       "   'LarvaPic': None,\n",
       "   'Length': 91.0,\n",
       "   'LengthFemale': None,\n",
       "   'LifeCycle': None,\n",
       "   'LongevityCapRef': None,\n",
       "   'LongevityCaptive': None,\n",
       "   'LongevityWild': 24.0,\n",
       "   'LongevityWildRef': 28499,\n",
       "   'MCastnets': 0,\n",
       "   'MDredges': 0,\n",
       "   'MGillnets': 0,\n",
       "   'MHooksLines': 0,\n",
       "   'MLiftnets': 0,\n",
       "   'MOther': 0,\n",
       "   'MSeines': 0,\n",
       "   'MSpears': 0,\n",
       "   'MTraps': 0,\n",
       "   'MTrawls': -1,\n",
       "   'MainCatchingMethod': 'seines',\n",
       "   'MaxLengthRef': 2850,\n",
       "   'MaxWeightRef': 2850,\n",
       "   'MigratRef': 51243,\n",
       "   'Modified': 14,\n",
       "   'PD50': 0.75,\n",
       "   'Pic': None,\n",
       "   'PicPreferredName': 'Plste_u1.jpg',\n",
       "   'PicPreferredNameF': None,\n",
       "   'PicPreferredNameJ': None,\n",
       "   'PicPreferredNameM': None,\n",
       "   'PictureFemale': None,\n",
       "   'PriceCateg': 'medium',\n",
       "   'PriceReliability': 'Very questionable: based on ex-vessel price for species in this family',\n",
       "   'Profile': None,\n",
       "   'Remark': None,\n",
       "   'Remarks7': None,\n",
       "   'Saltwater': -1,\n",
       "   'Source': 'R',\n",
       "   'SpecCode': 4249,\n",
       "   'Species': 'stellatus',\n",
       "   'SpeciesRefNo': 30193,\n",
       "   'SubGenCode': None,\n",
       "   'Subfamily': 'Pleuronectinae',\n",
       "   'TS': None,\n",
       "   'TaxIssue': 0,\n",
       "   'UsedasBait': 'never/rarely',\n",
       "   'UsedforAquaculture': 'never/rarely',\n",
       "   'Vulnerability': 50.55,\n",
       "   'Weight': 9100.0,\n",
       "   'WeightFemale': None}],\n",
       " 'error': None,\n",
       " 'returned': 1}"
      ]
     },
     "execution_count": 35,
     "metadata": {},
     "output_type": "execute_result"
    }
   ],
   "source": [
    "parsed_json"
   ]
  },
  {
   "cell_type": "code",
   "execution_count": 38,
   "metadata": {
    "collapsed": false
   },
   "outputs": [
    {
     "data": {
      "text/plain": [
       "'Found inshore, often in very shallow water and in estuaries during the summer; moving into deeper water in the winter (Ref. 27547).  However, they may occur in deep water throughout the year (Ref. 27547).  Does not venture into water of high salinities (Ref. 28899).  Young and adults move up rivers, as much as 120 km (Ref. 27547).  Benthic (Ref. 58426).  Feeds on crustaceans, worms, small mollusks, brittle stars, and small fishes (Ref. 6885).  Important game fish (Ref. 2850).  Utilized fresh and frozen; eaten steamed, fried, boiled, microwaved, and baked (Ref. 9988).'"
      ]
     },
     "execution_count": 38,
     "metadata": {},
     "output_type": "execute_result"
    }
   ],
   "source": [
    "parsed_json[\"data\"][0][\"Comments\"]"
   ]
  },
  {
   "cell_type": "code",
   "execution_count": 39,
   "metadata": {
    "collapsed": false
   },
   "outputs": [
    {
     "data": {
      "text/plain": [
       "dict_keys(['DateModified', 'LTypeMaxF', 'CommonLengthF', 'MigratRef', 'LTypeComM', 'BodyShapeI', 'DepthRangeDeep', 'Saltwater', 'PicPreferredNameM', 'SpeciesRefNo', 'TS', 'Pic', 'AuthorRef', 'AnaCat', 'Expert', 'LongevityCapRef', 'MCastnets', 'MaxLengthRef', 'PicPreferredName', 'GameFish', 'LandingStatistics', 'MSeines', 'Length', 'BaitRef', 'AquariumRef', 'Author', 'CommonLengthRef', 'LarvaPic', 'Electrogenic', 'Brack', 'Source', 'Vulnerability', 'Importance', 'Dangerous', 'UsedasBait', 'LifeCycle', 'Subfamily', 'TaxIssue', 'DemersPelag', 'FamCode', 'Aquarium', 'SpecCode', 'PicPreferredNameJ', 'Modified', 'LongevityWild', 'Species', 'MHooksLines', 'UsedforAquaculture', 'Fresh', 'GenCode', 'LongevityWildRef', 'DateEntered', 'PriceReliability', 'DateChecked', 'PD50', 'DepthComRef', 'Emblematic', 'WeightFemale', 'Landings', 'DepthRangeRef', 'DepthRangeComShallow', 'DepthRangeShallow', 'PriceCateg', 'Weight', 'ImportanceRef', 'MLiftnets', 'AquariumFishII', 'II', 'LTypeMaxM', 'LTypeComF', 'MaxWeightRef', 'CommonLength', 'MTraps', 'Genus', 'Remarks7', 'EggPic', 'AquacultureRef', 'MTrawls', 'GoogleImage', 'ElectroRef', 'MainCatchingMethod', 'LengthFemale', 'FBname', 'MGillnets', 'Complete', 'Remark', 'MOther', 'LongevityCaptive', 'DangerousRef', 'Entered', 'GameRef', 'SubGenCode', 'MSpears', 'PicPreferredNameF', 'MDredges', 'Comments', 'DepthRangeComDeep', 'PictureFemale', 'Profile'])"
      ]
     },
     "execution_count": 39,
     "metadata": {},
     "output_type": "execute_result"
    }
   ],
   "source": [
    "parsed_json[\"data\"][0].keys()"
   ]
  },
  {
   "cell_type": "code",
   "execution_count": null,
   "metadata": {
    "collapsed": true
   },
   "outputs": [],
   "source": [
    "hw takw a coupel fof ish u r interested in \n",
    "write a script that accesf api\n",
    "or parse \n",
    "write fa report of your favoirte fish "
   ]
  }
 ],
 "metadata": {
  "anaconda-cloud": {},
  "kernelspec": {
   "display_name": "Python [conda root]",
   "language": "python",
   "name": "conda-root-py"
  },
  "language_info": {
   "codemirror_mode": {
    "name": "ipython",
    "version": 3
   },
   "file_extension": ".py",
   "mimetype": "text/x-python",
   "name": "python",
   "nbconvert_exporter": "python",
   "pygments_lexer": "ipython3",
   "version": "3.5.2"
  }
 },
 "nbformat": 4,
 "nbformat_minor": 2
}
