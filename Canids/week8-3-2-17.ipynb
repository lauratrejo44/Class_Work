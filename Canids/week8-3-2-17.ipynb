{
 "cells": [
  {
   "cell_type": "code",
   "execution_count": 21,
   "metadata": {
    "collapsed": false
   },
   "outputs": [
    {
     "ename": "IndexError",
     "evalue": "list index out of range",
     "output_type": "error",
     "traceback": [
      "\u001b[0;31m---------------------------------------------------------------------------\u001b[0m",
      "\u001b[0;31mIndexError\u001b[0m                                Traceback (most recent call last)",
      "\u001b[0;32m<ipython-input-21-003a1a4ca400>\u001b[0m in \u001b[0;36m<module>\u001b[0;34m()\u001b[0m\n\u001b[1;32m     24\u001b[0m \u001b[0;34m\u001b[0m\u001b[0m\n\u001b[1;32m     25\u001b[0m \u001b[0;32mfor\u001b[0m \u001b[0mline\u001b[0m \u001b[0;32min\u001b[0m \u001b[0mcanid_recs\u001b[0m\u001b[0;34m:\u001b[0m\u001b[0;34m\u001b[0m\u001b[0m\n\u001b[0;32m---> 26\u001b[0;31m     \u001b[0mspecies\u001b[0m \u001b[0;34m=\u001b[0m \u001b[0mline\u001b[0m\u001b[0;34m.\u001b[0m\u001b[0msplit\u001b[0m\u001b[0;34m(\u001b[0m\u001b[0;34m','\u001b[0m\u001b[0;34m)\u001b[0m \u001b[0;34m[\u001b[0m\u001b[0;36m5\u001b[0m\u001b[0;34m]\u001b[0m\u001b[0;34m\u001b[0m\u001b[0m\n\u001b[0m\u001b[1;32m     27\u001b[0m     \u001b[0mminage\u001b[0m \u001b[0;34m=\u001b[0m \u001b[0mline\u001b[0m\u001b[0;34m.\u001b[0m\u001b[0msplit\u001b[0m\u001b[0;34m(\u001b[0m\u001b[0;34m'\",\"'\u001b[0m\u001b[0;34m)\u001b[0m\u001b[0;34m[\u001b[0m\u001b[0;36m10\u001b[0m\u001b[0;34m]\u001b[0m\u001b[0;34m\u001b[0m\u001b[0m\n\u001b[1;32m     28\u001b[0m     \u001b[0mmaxage\u001b[0m \u001b[0;34m=\u001b[0m \u001b[0mline\u001b[0m\u001b[0;34m.\u001b[0m\u001b[0msplit\u001b[0m \u001b[0;34m(\u001b[0m\u001b[0;34m'\",\"'\u001b[0m\u001b[0;34m)\u001b[0m\u001b[0;34m[\u001b[0m\u001b[0;36m11\u001b[0m\u001b[0;34m]\u001b[0m\u001b[0;34m\u001b[0m\u001b[0m\n",
      "\u001b[0;31mIndexError\u001b[0m: list index out of range"
     ]
    }
   ],
   "source": [
    "#create a file that gets rid of the header use shell to cut out header \n",
    "#create a new file that shows earliest fossil and latest fossil ocurrence of each spp\n",
    "#overall objective \n",
    "#how long did persist in the fossil record \n",
    "#from clean data file to a file  we can find first and last occurence of every spp \n",
    "#write an ouput file genus spp earliest appeareance latest appearance \n",
    "output = open (\"canid-ranges.csv\",\"w\")\n",
    "file = \"pdbd1_data.csv\"\n",
    "with open (file,'r') as ff:\n",
    "    canid_recs =ff.readlines()\n",
    "\n",
    "\n",
    "import csv \n",
    "from collections import defaultdict \n",
    "#list of average age for that spp \n",
    "species_ranges = defaultdict (list)\n",
    "\n",
    "#file = open (\"/home/eeb177-student/Desktop/eeb-177/class-work/Canids/pbdb1_data.csv\")\n",
    "#output = open (\"outputfile.csv\", \"w\")\n",
    "\n",
    "#file.readlines() \n",
    "\n",
    "#canid_recs = {}\n",
    "\n",
    "for line in canid_recs:\n",
    "    species = line.split(',') [5]\n",
    "    minage = line.split('\",\"')[10]\n",
    "    maxage = line.split ('\",\"')[11]\n",
    "    mean_age = (float(minage) + float(maxage))/2\n",
    "    print (mean_age)\n",
    "    species_ranges [species].append (mean_age)#add species as key \n",
    "    species_ranges.values() \n",
    "\n",
    "    #GET THE oldesst and youngest fossil for each spp \n",
    "    if current_max_age > maxage:\n",
    "        then max_age = current_max_age\n",
    "\n",
    "        elif:\n",
    "            #min() & max()\n",
    "            \n",
    "for key in species_ranges.keys():\n",
    "    ages = species_ranges [key]\n",
    "    minage = min(ages)\n",
    "    maxage = max(ages)\n",
    "    genus = key.split(\"\")[0] \n",
    "    output.write ( genus  + \",\" + key + \",\")\n",
    "    outline = \"{}\"\n",
    "    print (minage,maxage)\n",
    "    \n",
    "    #items = line.split(',') \n",
    "    #species = line [5]\n",
    "    #for element in items:\n",
    "        #if element == 'genus':\n",
    "            #columns[element]= \n",
    "#we need a dictionary to \n",
    "    \n",
    "#output.write() \n",
    "#file.close() \n"
   ]
  },
  {
   "cell_type": "code",
   "execution_count": null,
   "metadata": {
    "collapsed": true
   },
   "outputs": [],
   "source": []
  }
 ],
 "metadata": {
  "anaconda-cloud": {},
  "kernelspec": {
   "display_name": "Python [conda root]",
   "language": "python",
   "name": "conda-root-py"
  },
  "language_info": {
   "codemirror_mode": {
    "name": "ipython",
    "version": 3
   },
   "file_extension": ".py",
   "mimetype": "text/x-python",
   "name": "python",
   "nbconvert_exporter": "python",
   "pygments_lexer": "ipython3",
   "version": "3.5.2"
  }
 },
 "nbformat": 4,
 "nbformat_minor": 2
}
