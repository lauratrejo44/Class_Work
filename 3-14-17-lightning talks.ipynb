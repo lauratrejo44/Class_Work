{
 "cells": [
  {
   "cell_type": "markdown",
   "metadata": {},
   "source": [
    "***Lightning Talks***"
   ]
  },
  {
   "cell_type": "markdown",
   "metadata": {},
   "source": [
    "1. Kelsey: Selachi Diversity: What does the peaks in your pyrate graph mean ?\n",
    "\n",
    "2. Canis: What geographic period were most fossils found?\n",
    "\n",
    "3. Proboscidea: How did you map them on a world map?\n",
    "\n",
    "4. comparing cooperation and decision times between india and america: Was therre a difference in cooperation between countries?\n",
    "\n",
    "5. California Oak: What is a boot strap test?\n",
    "\n",
    "6. Squamata: what was the purpose of seperating data into post and pre eras?\n",
    "\n",
    "7. alligatridae: The species that has survived the longest, where is it mostly found ? \n",
    "\n",
    "8. sloths: what taxa made it up north? \n",
    "\n",
    "9. birds and mammals: Which area has most overlap?\n",
    "\n",
    "10. apes: why is there more diversity now?\n",
    "\n",
    "11. heart rate : how did you make the input tab? \n",
    "\n",
    "12. Atherosclerosis: How did you create that pie chart?\n",
    "\n",
    "13. circadian rythm: What do you hope to find by including more data from pbdb. \n",
    "\n",
    "14. Feliformia: Does adding and subtracting 1 skew your data?\n",
    "\n",
    "15. Asian duck and American Duck: Is there any evolutiona\n"
   ]
  }
 ],
 "metadata": {
  "anaconda-cloud": {},
  "kernelspec": {
   "display_name": "Python [conda root]",
   "language": "python",
   "name": "conda-root-py"
  },
  "language_info": {
   "codemirror_mode": {
    "name": "ipython",
    "version": 3
   },
   "file_extension": ".py",
   "mimetype": "text/x-python",
   "name": "python",
   "nbconvert_exporter": "python",
   "pygments_lexer": "ipython3",
   "version": "3.5.2"
  }
 },
 "nbformat": 4,
 "nbformat_minor": 2
}
